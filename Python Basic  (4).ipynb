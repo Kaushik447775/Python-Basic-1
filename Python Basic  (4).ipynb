{
 "cells": [
  {
   "cell_type": "code",
   "execution_count": null,
   "id": "8f1c5a92-de53-42b1-b6a5-f8d5ad338cae",
   "metadata": {
    "jupyter": {
     "source_hidden": true
    }
   },
   "outputs": [],
   "source": [
    "1. What is Python, and why is it popular ?\n",
    "Ans: Python is a interpreted programming language.\n",
    "                    Python is popular because it is very easy to learn and it's versatility.\n",
    "\n",
    "2. What is an interpreter in Python ?\n",
    "Ans: In python an interpreter is a computer program that translate the python code into a machine language.\n",
    "\n",
    "3. What are pre-defined keywords in Python ?\n",
    "Ans: Pre-defined keywords in python are words with specific meaning and can not be changed by the programmer.\n",
    "      Examples- False, None, True, if, elif, else, for, while, break, continue etc.\n",
    "\n",
    "4. Can keywords be used as variable names ?\n",
    "Ans: No, we can not use the keywords as variable name.\n",
    "\n",
    "5. What is mutability in Python ?\n",
    "Ans: In python mutability means changeable or editable.\n",
    "\n",
    "6. Why are lists mutable, but tuples are immutable ?\n",
    "Ans: Lists are mutable because we can change the order of items and reassign an item in list.\n",
    "                Tuples are immutable because we can not change after it created.\n",
    "\n",
    "7. What is the difference between “==” and “is” operators in Python ?\n",
    "Ans: (i) \"==\" is a comparison operator, where \"is\" is a identity operator.\n",
    "    (ii) \"==\" operator compare the condition true or false, where \"is\" operator compare the value or location of two variables.\n",
    "\n",
    "8. What are logical operators in Python ?\n",
    "Ans: In python logical operators are \"and\" and \"or\".\n",
    "\n",
    "9. What is type casting in Python ?\n",
    "Ans: In python type casting means a process of changing the data type of a variable from one type to another type.\n",
    "\n",
    "10. What is the difference between implicit and explicit type casting ?\n",
    "Ans: In explicit type casting we have specify the type of data, where in implicit type casting python understand the type by own.\n",
    "\n",
    "11.  What is the purpose of conditional statements in Python ?\n",
    "Ans: We can control the flow of a program by using conditional statement in python.\n",
    "\n",
    "12.  How does the elif statement work ?\n",
    "Ans: When the first if statement is not true but we want to check more condition we can use elif statement.\n",
    "\n",
    "13. What is the difference between for and while loops ?\n",
    "Ans: For loops iterate over a sequence of elements, where while loop repeatedly executed a block of code untill the condition is met.\n",
    "\n",
    "14.  Describe a scenario where a while loop is more suitable than a for loop ?\n",
    "Ans: Let we take two variable \"Number\" and \"Count\". \"Number\" contain a value of 8 and \"Count\" contain a variable of 1. We want to print the \"Count\"         \n",
    "     until the no 8 comes. In this condition while loop is more suitable than for loop.\n",
    "\n"
   ]
  },
  {
   "cell_type": "markdown",
   "id": "b2a796d0-ceac-4c6c-a7ef-6c3cc1527d3b",
   "metadata": {},
   "source": [
    "\n"
   ]
  },
  {
   "cell_type": "markdown",
   "id": "58d23d2a-1b50-49c1-ad27-733f9bdbb0eb",
   "metadata": {},
   "source": [
    "# Practical Questions :-"
   ]
  },
  {
   "cell_type": "code",
   "execution_count": 1,
   "id": "48a7dd13-1777-47f4-9d2c-76dd1dc54dae",
   "metadata": {},
   "outputs": [
    {
     "name": "stdout",
     "output_type": "stream",
     "text": [
      "Hello, World!\n"
     ]
    }
   ],
   "source": [
    "#1. Write a Python program to print \"Hello, World!_\n",
    "\n",
    "\n",
    "print (\"Hello, World!\")"
   ]
  },
  {
   "cell_type": "code",
   "execution_count": 11,
   "id": "f5cb771c-3b0c-4ed6-b351-0f48ae163b94",
   "metadata": {},
   "outputs": [
    {
     "name": "stdout",
     "output_type": "stream",
     "text": [
      "Name = Kaushik Sutradhar\n",
      "Age = 28\n"
     ]
    }
   ],
   "source": [
    "#2. Write a Python program that displays your name and age.\n",
    "\n",
    "\n",
    "print (\"Name = Kaushik Sutradhar\")\n",
    "print (\"Age = 28\")"
   ]
  },
  {
   "cell_type": "code",
   "execution_count": 13,
   "id": "28f79751-d28d-4810-b594-61246e1ccd3a",
   "metadata": {},
   "outputs": [
    {
     "name": "stdout",
     "output_type": "stream",
     "text": [
      "\n",
      "Here is a list of the Python keywords.  Enter any keyword to get more help.\n",
      "\n",
      "False               class               from                or\n",
      "None                continue            global              pass\n",
      "True                def                 if                  raise\n",
      "and                 del                 import              return\n",
      "as                  elif                in                  try\n",
      "assert              else                is                  while\n",
      "async               except              lambda              with\n",
      "await               finally             nonlocal            yield\n",
      "break               for                 not                 \n",
      "\n"
     ]
    }
   ],
   "source": [
    "#3. Write code to print all the pre-defined keywords in Python using the keyword library.\n",
    "\n",
    "\n",
    "help (\"keywords\")"
   ]
  },
  {
   "cell_type": "code",
   "execution_count": 17,
   "id": "9cd4f68f-4c83-4df4-9383-eb70588df2c7",
   "metadata": {},
   "outputs": [
    {
     "data": {
      "text/plain": [
       "True"
      ]
     },
     "execution_count": 17,
     "metadata": {},
     "output_type": "execute_result"
    }
   ],
   "source": [
    "#4. Write a program that checks if a given word is a Python keyword.\n",
    "\n",
    "\n",
    "import keyword\n",
    "keyword.iskeyword (\"False\")"
   ]
  },
  {
   "cell_type": "code",
   "execution_count": 32,
   "id": "15b31c1b-f22e-4f96-9c9e-a033900c4a63",
   "metadata": {},
   "outputs": [
    {
     "data": {
      "text/plain": [
       "['Apple', 'Orange', 'Pears', 'Watermelon', 'Mango']"
      ]
     },
     "execution_count": 32,
     "metadata": {},
     "output_type": "execute_result"
    }
   ],
   "source": [
    "#5. Create a list and tuple in Python, and demonstrate how attempting to change an element works differently for each.\n",
    "\n",
    "\n",
    "Fruits_list = [\"Apple\", \"Orange\", \"Pears\", \"Watermelon\", \"Mango\"]\n",
    "Fruits_list"
   ]
  },
  {
   "cell_type": "code",
   "execution_count": 34,
   "id": "ca6f3b3e-5536-41e1-931c-41e08a952fb9",
   "metadata": {},
   "outputs": [
    {
     "data": {
      "text/plain": [
       "['Apple', 'Orange', 'Pears', 'Watermelon', 'Guava']"
      ]
     },
     "execution_count": 34,
     "metadata": {},
     "output_type": "execute_result"
    }
   ],
   "source": [
    "Fruits_list[4] = \"Guava\"\n",
    "Fruits_list"
   ]
  },
  {
   "cell_type": "code",
   "execution_count": null,
   "id": "6412cc60-5ac9-4249-a2ba-9727be6a12b7",
   "metadata": {},
   "outputs": [],
   "source": []
  },
  {
   "cell_type": "code",
   "execution_count": 46,
   "id": "9e6e804e-23bd-4ed1-bb7d-46fdd5888c6c",
   "metadata": {},
   "outputs": [
    {
     "data": {
      "text/plain": [
       "('Apple', 'Orange', 'Pears', 'Watermelon', 'Mango')"
      ]
     },
     "execution_count": 46,
     "metadata": {},
     "output_type": "execute_result"
    }
   ],
   "source": [
    "Fruits_tuple = (\"Apple\", \"Orange\", \"Pears\", \"Watermelon\", \"Mango\")\n",
    "Fruits_tuple"
   ]
  },
  {
   "cell_type": "code",
   "execution_count": 50,
   "id": "5af81bcd-2432-44c0-887d-c4b798ef1379",
   "metadata": {},
   "outputs": [
    {
     "data": {
      "text/plain": [
       "['Apple', 'Orange', 'Pears', 'Guava', 'Mango']"
      ]
     },
     "execution_count": 50,
     "metadata": {},
     "output_type": "execute_result"
    }
   ],
   "source": [
    "Fruit_basket = list (Fruits_tuple)\n",
    "Fruit_basket [3] = \"Guava\"\n",
    "Fruit_basket"
   ]
  },
  {
   "cell_type": "code",
   "execution_count": 60,
   "id": "e97ccc9c-553e-4de0-ab17-130a89a15c08",
   "metadata": {},
   "outputs": [
    {
     "name": "stdout",
     "output_type": "stream",
     "text": [
      "The Number is Even\n"
     ]
    }
   ],
   "source": [
    "#8. Write a program to demonstrate the use of logical operators.\n",
    "\n",
    "\n",
    "Number = 42\n",
    "if ((Number % 2 == 0) & (Number > 0)):\n",
    "    print (\"The Number is Even\")\n"
   ]
  },
  {
   "cell_type": "code",
   "execution_count": 68,
   "id": "e82c3843-d41b-4e56-9441-3ef4dcb9a5c9",
   "metadata": {},
   "outputs": [
    {
     "name": "stdin",
     "output_type": "stream",
     "text": [
      "Please enter a number 32\n"
     ]
    },
    {
     "data": {
      "text/plain": [
       "32"
      ]
     },
     "execution_count": 68,
     "metadata": {},
     "output_type": "execute_result"
    }
   ],
   "source": [
    "#9. Write a Python program to convert user input from string to integer, float, and boolean types.\n",
    "\n",
    "\n",
    "Number = input (\"Please enter a number\")\n",
    "Number_1 = int (Number)\n",
    "Number_1"
   ]
  },
  {
   "cell_type": "code",
   "execution_count": 70,
   "id": "b8f37fed-c3c1-4365-931e-294e64efabd0",
   "metadata": {},
   "outputs": [
    {
     "data": {
      "text/plain": [
       "str"
      ]
     },
     "execution_count": 70,
     "metadata": {},
     "output_type": "execute_result"
    }
   ],
   "source": [
    "type (Number)"
   ]
  },
  {
   "cell_type": "code",
   "execution_count": 72,
   "id": "7e1c5e30-7d5c-4d7f-8674-7bfc2f53bc72",
   "metadata": {},
   "outputs": [
    {
     "data": {
      "text/plain": [
       "int"
      ]
     },
     "execution_count": 72,
     "metadata": {},
     "output_type": "execute_result"
    }
   ],
   "source": [
    "type (Number_1)"
   ]
  },
  {
   "cell_type": "code",
   "execution_count": 74,
   "id": "7ac75906-88d2-41ef-b629-4f5d8718310f",
   "metadata": {},
   "outputs": [
    {
     "name": "stdin",
     "output_type": "stream",
     "text": [
      "Please enter a number 5\n"
     ]
    },
    {
     "data": {
      "text/plain": [
       "5.0"
      ]
     },
     "execution_count": 74,
     "metadata": {},
     "output_type": "execute_result"
    }
   ],
   "source": [
    "Number = input (\"Please enter a number\")\n",
    "Number_2 = float (Number)\n",
    "Number_2"
   ]
  },
  {
   "cell_type": "code",
   "execution_count": 76,
   "id": "11670b46-1e8a-4b7e-af8b-0b967c369860",
   "metadata": {},
   "outputs": [
    {
     "data": {
      "text/plain": [
       "str"
      ]
     },
     "execution_count": 76,
     "metadata": {},
     "output_type": "execute_result"
    }
   ],
   "source": [
    "type (Number)"
   ]
  },
  {
   "cell_type": "code",
   "execution_count": 80,
   "id": "70713827-8380-4960-9a44-93d70b321c9c",
   "metadata": {},
   "outputs": [
    {
     "data": {
      "text/plain": [
       "float"
      ]
     },
     "execution_count": 80,
     "metadata": {},
     "output_type": "execute_result"
    }
   ],
   "source": [
    "type (Number_2)"
   ]
  },
  {
   "cell_type": "code",
   "execution_count": 82,
   "id": "a15e6c3a-0079-4617-8de7-cc9d731020b5",
   "metadata": {},
   "outputs": [
    {
     "name": "stdin",
     "output_type": "stream",
     "text": [
      "Please enter a number 65\n"
     ]
    },
    {
     "data": {
      "text/plain": [
       "True"
      ]
     },
     "execution_count": 82,
     "metadata": {},
     "output_type": "execute_result"
    }
   ],
   "source": [
    "Number = input (\"Please enter a number\")\n",
    "Number_3 = bool (Number)\n",
    "Number_3"
   ]
  },
  {
   "cell_type": "code",
   "execution_count": 88,
   "id": "f68093e6-75f6-496e-bd2d-d24c103fee61",
   "metadata": {},
   "outputs": [
    {
     "data": {
      "text/plain": [
       "str"
      ]
     },
     "execution_count": 88,
     "metadata": {},
     "output_type": "execute_result"
    }
   ],
   "source": [
    "type (Number)"
   ]
  },
  {
   "cell_type": "code",
   "execution_count": 90,
   "id": "bf102c38-ad52-47f9-aab9-fb9e9e4c76f0",
   "metadata": {},
   "outputs": [
    {
     "data": {
      "text/plain": [
       "bool"
      ]
     },
     "execution_count": 90,
     "metadata": {},
     "output_type": "execute_result"
    }
   ],
   "source": [
    "type (Number_3)"
   ]
  },
  {
   "cell_type": "code",
   "execution_count": 92,
   "id": "8f3b6168-19d7-4733-a9b2-579d132a95f0",
   "metadata": {},
   "outputs": [
    {
     "ename": "TypeError",
     "evalue": "can only concatenate str (not \"int\") to str",
     "output_type": "error",
     "traceback": [
      "\u001b[1;31m---------------------------------------------------------------------------\u001b[0m",
      "\u001b[1;31mTypeError\u001b[0m                                 Traceback (most recent call last)",
      "Cell \u001b[1;32mIn[92], line 5\u001b[0m\n\u001b[0;32m      3\u001b[0m a \u001b[38;5;241m=\u001b[39m  \u001b[38;5;124m\"\u001b[39m\u001b[38;5;124m2\u001b[39m\u001b[38;5;124m\"\u001b[39m\n\u001b[0;32m      4\u001b[0m b \u001b[38;5;241m=\u001b[39m \u001b[38;5;241m6\u001b[39m\n\u001b[1;32m----> 5\u001b[0m a\u001b[38;5;241m+\u001b[39mb\n",
      "\u001b[1;31mTypeError\u001b[0m: can only concatenate str (not \"int\") to str"
     ]
    }
   ],
   "source": [
    "#10. Write code to demonstrate type casting with list elements.\n",
    "\n",
    "\n",
    "a =  \"2\"\n",
    "b = 6\n",
    "a+b"
   ]
  },
  {
   "cell_type": "code",
   "execution_count": 94,
   "id": "af6b2a77-f897-4f00-831a-f57ff9af41d8",
   "metadata": {},
   "outputs": [
    {
     "data": {
      "text/plain": [
       "8"
      ]
     },
     "execution_count": 94,
     "metadata": {},
     "output_type": "execute_result"
    }
   ],
   "source": [
    "c = int (a)\n",
    "b+c"
   ]
  },
  {
   "cell_type": "code",
   "execution_count": 102,
   "id": "4080984a-7391-4802-a80f-8253f40cf400",
   "metadata": {},
   "outputs": [
    {
     "name": "stdout",
     "output_type": "stream",
     "text": [
      "The Number Is Zero\n"
     ]
    }
   ],
   "source": [
    "#11. Write a program that checks if a number is positive, negative, or zero.\n",
    "\n",
    "\n",
    "Number = 0\n",
    "if (Number > 0):\n",
    "    print (\"The Number Is Positive\")\n",
    "elif (Number < 0):\n",
    "    print (\"The Number Is Negetive\")\n",
    "else :\n",
    "    print (\"The Number Is Zero\")"
   ]
  },
  {
   "cell_type": "code",
   "execution_count": 106,
   "id": "316333ca-df7f-49cf-ad35-b415c71dc482",
   "metadata": {},
   "outputs": [
    {
     "name": "stdout",
     "output_type": "stream",
     "text": [
      "0 1 2 3 4 5 6 7 8 9 10 "
     ]
    }
   ],
   "source": [
    "#12.  Write a for loop to print numbers from 1 to 10.\n",
    "\n",
    "\n",
    "for i in range (0,11):\n",
    "    print (i, end=\" \")"
   ]
  },
  {
   "cell_type": "code",
   "execution_count": 108,
   "id": "48d6cbce-1915-4879-93fe-4d23852a2b00",
   "metadata": {},
   "outputs": [
    {
     "name": "stdout",
     "output_type": "stream",
     "text": [
      "The sum of even no is 600\n"
     ]
    }
   ],
   "source": [
    "#13. Write a Python program to find the sum of all even numbers between 1 and 50\n",
    "\n",
    "\n",
    "Sum = 0\n",
    "for i in range (0,50,2):\n",
    "    Sum = Sum + i\n",
    "print (f\"The sum of even no is {Sum}\")"
   ]
  },
  {
   "cell_type": "code",
   "execution_count": 31,
   "id": "1af18bb5-dc0d-459c-859e-095284814a92",
   "metadata": {},
   "outputs": [
    {
     "name": "stdin",
     "output_type": "stream",
     "text": [
      "Please Enter the no 6\n"
     ]
    },
    {
     "name": "stdout",
     "output_type": "stream",
     "text": [
      "720\n"
     ]
    }
   ],
   "source": [
    "#15. Write a Python program to calculate the factorial of a number provided by the user using a while loop.\n",
    "\n",
    "\n",
    "Number = int (input (\"Please Enter the no\"))\n",
    "Product = 1\n",
    "Digit = 1\n",
    "while Digit <= Number:\n",
    "    Product = Product * Digit\n",
    "    Digit = Digit + 1\n",
    "print (Product)\n",
    "    "
   ]
  },
  {
   "cell_type": "code",
   "execution_count": null,
   "id": "7a3c7348-a6e0-4eb6-8ed6-93a63a494ced",
   "metadata": {},
   "outputs": [],
   "source": []
  }
 ],
 "metadata": {
  "kernelspec": {
   "display_name": "Python 3 (ipykernel)",
   "language": "python",
   "name": "python3"
  },
  "language_info": {
   "codemirror_mode": {
    "name": "ipython",
    "version": 3
   },
   "file_extension": ".py",
   "mimetype": "text/x-python",
   "name": "python",
   "nbconvert_exporter": "python",
   "pygments_lexer": "ipython3",
   "version": "3.12.7"
  }
 },
 "nbformat": 4,
 "nbformat_minor": 5
}
